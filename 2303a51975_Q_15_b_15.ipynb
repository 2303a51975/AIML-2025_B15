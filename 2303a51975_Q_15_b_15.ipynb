{
  "nbformat": 4,
  "nbformat_minor": 0,
  "metadata": {
    "colab": {
      "provenance": [],
      "authorship_tag": "ABX9TyNoIdw/R9P4o7EzV6egWE3l",
      "include_colab_link": true
    },
    "kernelspec": {
      "name": "python3",
      "display_name": "Python 3"
    },
    "language_info": {
      "name": "python"
    }
  },
  "cells": [
    {
      "cell_type": "markdown",
      "metadata": {
        "id": "view-in-github",
        "colab_type": "text"
      },
      "source": [
        "<a href=\"https://colab.research.google.com/github/2303a51975/AIML-2025_B15/blob/main/2303a51975_Q_15_b_15.ipynb\" target=\"_parent\"><img src=\"https://colab.research.google.com/assets/colab-badge.svg\" alt=\"Open In Colab\"/></a>"
      ]
    },
    {
      "cell_type": "code",
      "execution_count": null,
      "metadata": {
        "id": "xafKxda2-bqg"
      },
      "outputs": [],
      "source": [
        "import pandas as pd\n",
        "import numpy as np\n",
        "import matplotlib.pyplot as plt\n",
        "import seaborn as sns\n",
        "from datetime import datetime\n"
      ]
    },
    {
      "cell_type": "code",
      "source": [
        "data = pd.read_csv('/content/online_shoppers_intention.csv')"
      ],
      "metadata": {
        "id": "hIBdW-AsGjic"
      },
      "execution_count": null,
      "outputs": []
    },
    {
      "cell_type": "code",
      "source": [
        "print(data.head())"
      ],
      "metadata": {
        "colab": {
          "base_uri": "https://localhost:8080/"
        },
        "id": "Ne5IgP89HlrG",
        "outputId": "3a2b5ae9-4c96-4616-c70f-8d124ced9810"
      },
      "execution_count": null,
      "outputs": [
        {
          "output_type": "stream",
          "name": "stdout",
          "text": [
            "   Administrative  Administrative_Duration  Informational  \\\n",
            "0               0                      0.0              0   \n",
            "1               0                      0.0              0   \n",
            "2               0                      0.0              0   \n",
            "3               0                      0.0              0   \n",
            "4               0                      0.0              0   \n",
            "\n",
            "   Informational_Duration  ProductRelated  ProductRelated_Duration  \\\n",
            "0                     0.0               1                 0.000000   \n",
            "1                     0.0               2                64.000000   \n",
            "2                     0.0               1                 0.000000   \n",
            "3                     0.0               2                 2.666667   \n",
            "4                     0.0              10               627.500000   \n",
            "\n",
            "   BounceRates  ExitRates  PageValues  SpecialDay Month  OperatingSystems  \\\n",
            "0         0.20       0.20         0.0         0.0   Feb                 1   \n",
            "1         0.00       0.10         0.0         0.0   Feb                 2   \n",
            "2         0.20       0.20         0.0         0.0   Feb                 4   \n",
            "3         0.05       0.14         0.0         0.0   Feb                 3   \n",
            "4         0.02       0.05         0.0         0.0   Feb                 3   \n",
            "\n",
            "   Browser  Region  TrafficType        VisitorType  Weekend  Revenue  \n",
            "0        1       1            1  Returning_Visitor    False    False  \n",
            "1        2       1            2  Returning_Visitor    False    False  \n",
            "2        1       9            3  Returning_Visitor    False    False  \n",
            "3        2       2            4  Returning_Visitor    False    False  \n",
            "4        3       1            4  Returning_Visitor     True    False  \n"
          ]
        }
      ]
    },
    {
      "cell_type": "code",
      "source": [
        "data['Date_of_Visit'] = pd.to_datetime(data['Administrative']) # Replace 'Administrative' with 'Date' if that's your target column.\n",
        "data['Date_of_Purchase'] = pd.to_datetime(data['Administrative_Duration']) # Replace 'Administrative_Duration' with 'Date' if that's your target column.\n"
      ],
      "metadata": {
        "id": "BF6jVezpH7kI"
      },
      "execution_count": null,
      "outputs": []
    },
    {
      "cell_type": "code",
      "source": [
        "most_purchased_product = data.groupby('ProductRelated')['Revenue'].sum().idxmax()\n"
      ],
      "metadata": {
        "id": "qeD59q9WNtBV"
      },
      "execution_count": 43,
      "outputs": []
    },
    {
      "cell_type": "code",
      "source": [
        "special_days_purchases = data.groupby('SpecialDay')['Revenue'].sum().reset_index()\n",
        "special_days_purchases = special_days_purchases.sort_values(by='Revenue', ascending=False)\n",
        "most_purchased_special_day = special_days_purchases.iloc[0]['SpecialDay']"
      ],
      "metadata": {
        "id": "93YdkfQeNwbZ"
      },
      "execution_count": 44,
      "outputs": []
    },
    {
      "cell_type": "code",
      "source": [
        "top_5_special_days = special_days_purchases.head(5)\n",
        "top_5_visitor_types = data[data['SpecialDay'].isin(top_5_special_days['SpecialDay'])]\\\n",
        "    .groupby(['SpecialDay', 'VisitorType'])['Revenue'].sum().reset_index()"
      ],
      "metadata": {
        "id": "VB3QryVQNxpi"
      },
      "execution_count": 45,
      "outputs": []
    },
    {
      "cell_type": "code",
      "source": [
        "months_purchases = data.groupby('Month')['Revenue'].sum().reset_index()\n",
        "months_purchases = months_purchases.sort_values(by='Revenue', ascending=False)\n",
        "most_purchased_months = months_purchases['Month'].tolist()"
      ],
      "metadata": {
        "id": "VxoF9-zNN0wf"
      },
      "execution_count": 49,
      "outputs": []
    },
    {
      "cell_type": "code",
      "source": [
        "max_revenue = data[data['Revenue'] == True]['PageValues'].max()\n",
        "min_revenue = data[data['Revenue'] == True]['PageValues'].min()\n"
      ],
      "metadata": {
        "id": "mkWTxWPpN3xW"
      },
      "execution_count": 50,
      "outputs": []
    },
    {
      "cell_type": "code",
      "source": [
        "print(\"1. Most purchased product ID:\", most_purchased_product)\n",
        "print(\"2. Special day with the most purchases:\", most_purchased_special_day)\n",
        "print(\"3. Top 5 special days of purchase and types of visitors:\")\n",
        "print(top_5_visitor_types)\n",
        "print(\"4. Months with most purchases:\", most_purchased_months)\n",
        "print(f\"5. Max revenue: {max_revenue}, Min revenue: {min_revenue}\")"
      ],
      "metadata": {
        "colab": {
          "base_uri": "https://localhost:8080/"
        },
        "id": "EK4vvtzTN6a4",
        "outputId": "a17128fb-932e-44cb-adad-12df32dbd74d"
      },
      "execution_count": 51,
      "outputs": [
        {
          "output_type": "stream",
          "name": "stdout",
          "text": [
            "1. Most purchased product ID: 10\n",
            "2. Special day with the most purchases: 0.0\n",
            "3. Top 5 special days of purchase and types of visitors:\n",
            "    SpecialDay        VisitorType  Revenue\n",
            "0          0.0        New_Visitor      406\n",
            "1          0.0              Other       16\n",
            "2          0.0  Returning_Visitor     1409\n",
            "3          0.2        New_Visitor        5\n",
            "4          0.2  Returning_Visitor        9\n",
            "5          0.4        New_Visitor        4\n",
            "6          0.4  Returning_Visitor        9\n",
            "7          0.6        New_Visitor        4\n",
            "8          0.6  Returning_Visitor       25\n",
            "9          0.8        New_Visitor        1\n",
            "10         0.8  Returning_Visitor       10\n",
            "4. Months with most purchases: ['Nov', 'May', 'Dec', 'Mar', 'Oct', 'Sep', 'Aug', 'Jul', 'June', 'Feb']\n",
            "5. Max revenue: 361.7637419, Min revenue: 0.0\n"
          ]
        }
      ]
    }
  ]
}